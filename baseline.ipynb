{
 "cells": [
  {
   "cell_type": "code",
   "execution_count": null,
   "id": "5083bc1b",
   "metadata": {},
   "outputs": [],
   "source": [
    "import os\n",
    "import json\n",
    "\n",
    "import pandas as pd\n",
    "from tqdm.auto import tqdm\n",
    "from haystack.utils.doc_store import launch_es, stop_elasticsearch\n",
    "from haystack.document_stores import ElasticsearchDocumentStore\n",
    "from haystack.nodes import ElasticsearchRetriever\n",
    "from haystack.pipelines import DocumentSearchPipeline"
   ]
  },
  {
   "cell_type": "code",
   "execution_count": null,
   "id": "01891994",
   "metadata": {},
   "outputs": [],
   "source": [
    "dataset_path = 'data/poleval-passage-retrieval/allegro-faq/'"
   ]
  },
  {
   "cell_type": "markdown",
   "id": "d704ae67",
   "metadata": {},
   "source": [
    "## Lauch ElasticSearch in Docker"
   ]
  },
  {
   "cell_type": "code",
   "execution_count": null,
   "id": "83ba995b",
   "metadata": {},
   "outputs": [],
   "source": [
    "launch_es(sleep=20)"
   ]
  },
  {
   "cell_type": "code",
   "execution_count": null,
   "id": "d8016ba6",
   "metadata": {},
   "outputs": [],
   "source": [
    "document_store = ElasticsearchDocumentStore(host='localhost', username='', password='', index='document')"
   ]
  },
  {
   "cell_type": "markdown",
   "id": "093bb8c2",
   "metadata": {},
   "source": [
    "## Index Passages"
   ]
  },
  {
   "cell_type": "code",
   "execution_count": null,
   "id": "e189d736",
   "metadata": {},
   "outputs": [],
   "source": [
    "passages = pd.read_json(\n",
    "    os.path.join(dataset_path, 'passages.jl'), \n",
    "    lines=True, \n",
    "    chunksize=1e6, \n",
    ")\n",
    "\n",
    "for batch in tqdm(passages):\n",
    "    if 'title' in batch:\n",
    "        batch['title'] = batch['title'].fillna('')\n",
    "        batch['text'] = batch.apply(lambda r: r['title'] + ' ' + r['text'], axis=1)\n",
    "    \n",
    "    batch = batch.rename(columns={'id': 'passage-id', 'text': 'content'})\n",
    "    batch_as_dicts = batch.to_dict(orient='records')\n",
    "    document_store.write_documents(batch_as_dicts)"
   ]
  },
  {
   "cell_type": "code",
   "execution_count": null,
   "id": "a9bcae1c",
   "metadata": {},
   "outputs": [],
   "source": [
    "document_store.get_document_count()"
   ]
  },
  {
   "cell_type": "markdown",
   "id": "b0ea5677",
   "metadata": {},
   "source": [
    "## Retrieve Similar Passages"
   ]
  },
  {
   "cell_type": "code",
   "execution_count": null,
   "id": "ef903925",
   "metadata": {},
   "outputs": [],
   "source": [
    "retriever = ElasticsearchRetriever(document_store=document_store)\n",
    "pipe = DocumentSearchPipeline(retriever)"
   ]
  },
  {
   "cell_type": "code",
   "execution_count": null,
   "id": "662d7b96",
   "metadata": {},
   "outputs": [],
   "source": [
    "questions = pd.read_json(os.path.join(dataset_path, 'questions-test.jl'), lines=True)\n",
    "questions.shape"
   ]
  },
  {
   "cell_type": "code",
   "execution_count": null,
   "id": "ae70ea76",
   "metadata": {},
   "outputs": [],
   "source": [
    "preds = []\n",
    "\n",
    "for _, row in tqdm(questions.iterrows()):\n",
    "    top_passages = pipe.run(\n",
    "        query=row['text'],\n",
    "        params={'Retriever': {'top_k': 10}}\n",
    "    )\n",
    "    \n",
    "    for passage in top_passages['documents']:\n",
    "        passage = passage.to_dict()\n",
    "        preds.append({\n",
    "            'question-id': row['id'],\n",
    "            'passage-id': passage['meta']['passage-id'],\n",
    "            'score': passage['score'],\n",
    "        })\n",
    "\n",
    "preds = pd.DataFrame(preds)"
   ]
  },
  {
   "cell_type": "code",
   "execution_count": null,
   "id": "79be0f32",
   "metadata": {},
   "outputs": [],
   "source": [
    "preds.to_csv(os.path.join(dataset_path, 'submission.tsv'), sep='\\t', index=False)"
   ]
  },
  {
   "cell_type": "code",
   "execution_count": null,
   "id": "1afc18ee",
   "metadata": {},
   "outputs": [],
   "source": [
    "stop_elasticsearch(delete_container=True)"
   ]
  }
 ],
 "metadata": {
  "kernelspec": {
   "display_name": "Python 3 (ipykernel)",
   "language": "python",
   "name": "python3"
  },
  "language_info": {
   "codemirror_mode": {
    "name": "ipython",
    "version": 3
   },
   "file_extension": ".py",
   "mimetype": "text/x-python",
   "name": "python",
   "nbconvert_exporter": "python",
   "pygments_lexer": "ipython3",
   "version": "3.9.7"
  }
 },
 "nbformat": 4,
 "nbformat_minor": 5
}
